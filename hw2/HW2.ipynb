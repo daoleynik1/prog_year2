{
 "cells": [
  {
   "cell_type": "code",
   "execution_count": null,
   "metadata": {},
   "outputs": [],
   "source": [
    "import json\n",
    "import urllib.request"
   ]
  },
  {
   "cell_type": "code",
   "execution_count": null,
   "metadata": {},
   "outputs": [],
   "source": [
    "def make_token():\n",
    "    token = '&access_token='\n",
    "    file_name = input('Название файла, в котором содержится _только_ токен: ')\n",
    "    if not file_name:\n",
    "        token = \"\"\n",
    "    else:\n",
    "        try:\n",
    "            with open(file_name, 'r', encoding='utf-8') as f:\n",
    "                tok = f.read().strip()\n",
    "                token += tok\n",
    "        except FileNotFoundError:\n",
    "            token = ''\n",
    "    return token"
   ]
  },
  {
   "cell_type": "code",
   "execution_count": null,
   "metadata": {},
   "outputs": [],
   "source": [
    "def add_users():\n",
    "    users = str(input(\"Введите никнэймы гитхаба через запятую БЕЗ ПРОБЕЛА: \"))\n",
    "    userlist = users.split(',')\n",
    "    return userlist"
   ]
  },
  {
   "cell_type": "code",
   "execution_count": null,
   "metadata": {},
   "outputs": [],
   "source": [
    "def choose_user(userlist):\n",
    "    user = 'костыль'\n",
    "    while user not in userlist:\n",
    "        user = input('Выберите пользователя и введите его ник: ')\n",
    "    return str(user)"
   ]
  },
  {
   "cell_type": "code",
   "execution_count": null,
   "metadata": {},
   "outputs": [],
   "source": [
    "def download_info(user, token, part='repos'):\n",
    "    info = []\n",
    "    page = 0\n",
    "    while len(info) == 100 * page:\n",
    "        page += 1\n",
    "        url = 'https://api.github.com'\n",
    "        url += '/users/%s/%s?page=%s&per_page=100%s' % (user, part, page, token)\n",
    "        j = urllib.request.urlopen(url)\n",
    "        text = j.read().decode('utf-8')\n",
    "        page_info = json.loads(text)\n",
    "        info.extend(page_info)\n",
    "    return info"
   ]
  },
  {
   "cell_type": "code",
   "execution_count": null,
   "metadata": {},
   "outputs": [],
   "source": [
    "def u_repositories(user, info):\n",
    "    start = 'Список репозиториев пользователя %s: ' % (user)\n",
    "    print(start)\n",
    "    for rep in info:\n",
    "        name = rep['name']\n",
    "        if rep['description']:\n",
    "            descr = rep['description']\n",
    "        else:\n",
    "            descr = '---'\n",
    "        output = '%s:\\t%s' % (name, descr)\n",
    "        print(output)"
   ]
  },
  {
   "cell_type": "code",
   "execution_count": null,
   "metadata": {},
   "outputs": [],
   "source": [
    "def u_languages(user, info):\n",
    "    lang_dict = {}\n",
    "    for rep in info:\n",
    "        if rep['language']:\n",
    "            if rep['language'] in lang_dict:\n",
    "                lang_dict[rep['language']] += 1\n",
    "            else:\n",
    "                lang_dict[rep['language']] = 1\n",
    "    output = 'Языки, на которых пишет пользователь %s: ' % user\n",
    "    print(output)\n",
    "    for lang in sorted(lang_dict, key=lang_dict.get, reverse=True):\n",
    "        amount = str(lang_dict[lang])\n",
    "        output = '%s\\t(%s)' % (lang, amount)\n",
    "        print(output)"
   ]
  },
  {
   "cell_type": "code",
   "execution_count": null,
   "metadata": {},
   "outputs": [],
   "source": [
    "def who_has_more(userlist, token):\n",
    "    all_users = {}\n",
    "    for user in userlist:\n",
    "        all_users[user] = len(download_info(user, token))\n",
    "    range_list = sorted(all_users, key=all_users.get, reverse=True)\n",
    "    top = range_list[0]\n",
    "    users = ','.join(userlist)\n",
    "    output = \"Из [%s] больше всего репозиториев у %s\" % (users, top)\n",
    "    print(output)"
   ]
  },
  {
   "cell_type": "code",
   "execution_count": null,
   "metadata": {},
   "outputs": [],
   "source": [
    "def final_output(dict_name, descr):\n",
    "    rating = sorted(dict_name, key=dict_name.get, reverse=True)\n",
    "    top = rating[0]\n",
    "    output = 'Самый популярный %s: %s!' % (descr, top)\n",
    "    print(output)"
   ]
  },
  {
   "cell_type": "code",
   "execution_count": null,
   "metadata": {},
   "outputs": [],
   "source": [
    "def popular_lang(userlist, token):\n",
    "    langs = {}\n",
    "    for user in userlist:\n",
    "        info = download_info(user, token)\n",
    "        for rep in info:\n",
    "            if rep['language']:\n",
    "                language = rep['language']\n",
    "                if language in langs:\n",
    "                    langs[language] += 1\n",
    "                else:\n",
    "                    langs[language] = 1\n",
    "    descr = 'язык'\n",
    "    final_output(langs, descr)"
   ]
  },
  {
   "cell_type": "code",
   "execution_count": null,
   "metadata": {},
   "outputs": [],
   "source": [
    "def followers(userlist, token):\n",
    "    folls = {}\n",
    "    part = 'followers'\n",
    "    for user in userlist:\n",
    "        u_followers = download_info(user, token, part)\n",
    "        folls[user] = len(u_followers)\n",
    "    descr = 'блогер'\n",
    "    final_output(folls, descr)"
   ]
  },
  {
   "cell_type": "code",
   "execution_count": null,
   "metadata": {},
   "outputs": [],
   "source": [
    "def print_userinfo(user, info):\n",
    "    u_repositories(user, info)\n",
    "    print('\\n')\n",
    "    u_languages(user, info)"
   ]
  },
  {
   "cell_type": "code",
   "execution_count": null,
   "metadata": {},
   "outputs": [],
   "source": [
    "def print_comparisons(userlist, token):\n",
    "    who_has_more(userlist, token)\n",
    "    popular_lang(userlist, token)\n",
    "    followers(userlist, token)"
   ]
  },
  {
   "cell_type": "code",
   "execution_count": null,
   "metadata": {},
   "outputs": [],
   "source": [
    "def main():\n",
    "    token = make_token()\n",
    "    userlist = add_users()\n",
    "    user = choose_user(userlist)\n",
    "    info = download_info(user, token)\n",
    "    print_userinfo(user, info)\n",
    "    print_comparisons(userlist, token)"
   ]
  },
  {
   "cell_type": "code",
   "execution_count": null,
   "metadata": {},
   "outputs": [],
   "source": []
  }
 ],
 "metadata": {
  "kernelspec": {
   "display_name": "Python 3",
   "language": "python",
   "name": "python3"
  },
  "language_info": {
   "codemirror_mode": {
    "name": "ipython",
    "version": 3
   },
   "file_extension": ".py",
   "mimetype": "text/x-python",
   "name": "python",
   "nbconvert_exporter": "python",
   "pygments_lexer": "ipython3",
   "version": "3.7.3"
  }
 },
 "nbformat": 4,
 "nbformat_minor": 2
}
