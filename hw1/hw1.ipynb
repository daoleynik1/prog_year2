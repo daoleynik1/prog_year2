{
 "cells": [
  {
   "cell_type": "code",
   "execution_count": 1,
   "metadata": {},
   "outputs": [],
   "source": [
    "import random #это чтобы включился поиск \"псевдослучайных\" элементов\n",
    "import re #эта позволит использовать регулярки\n",
    "def vybrat_tema ():\n",
    "    tema = input(\"Type a topic you want to play with - 'Писатели Японии', 'Периоды истории Японии' or 'Горы Японии'\")\n",
    "    while tema != 'Писатели Японии' and tema != 'Периоды истории Японии' and tema != 'Горы Японии':\n",
    "        tema = input(\"You are typing something else. Please type one of the topic\")\n",
    "    else:\n",
    "        if tema == 'Писатели Японии':\n",
    "            fileopen = 'Писатели Японии.txt'\n",
    "        else:\n",
    "            if tema == 'Периоды истории Японии':\n",
    "            fileopen = 'Периоды истории Японии.txt'\n",
    "                else:\n",
    "                    if tema == 'Горы Японии':\n",
    "                    fileopen = 'Японские горы.txt'\n",
    "    result = re.findall(r'Писатели Японии.txt', 'Периоды истории Японии.txt', 'Японские горы.txt')\n",
    "    result = re.split(;)\n",
    "    #по идее во всех указанных файлах деление на слова произойдет по символу ; но это не точно "
   ]
  }
 ],
 "metadata": {
  "kernelspec": {
   "display_name": "Python 3",
   "language": "python",
   "name": "python3"
  },
  "language_info": {
   "codemirror_mode": {
    "name": "ipython",
    "version": 3
   },
   "file_extension": ".py",
   "mimetype": "text/x-python",
   "name": "python",
   "nbconvert_exporter": "python",
   "pygments_lexer": "ipython3",
   "version": "3.6.5"
  }
 },
 "nbformat": 4,
 "nbformat_minor": 2
}
